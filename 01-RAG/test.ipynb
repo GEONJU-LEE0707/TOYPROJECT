{
 "cells": [
  {
   "cell_type": "code",
   "execution_count": null,
   "metadata": {},
   "outputs": [
    {
     "data": {
      "text/plain": [
       "'당신은 영어로 대답하는 어시스턴트입니다. 질문에 영어로 답변해주세요.'"
      ]
     },
     "execution_count": 1,
     "metadata": {},
     "output_type": "execute_result"
    }
   ],
   "source": [
    "import yaml\n",
    "from langchain_core.example_selectors.base import BaseExampleSelector\n",
    "from langchain_core.prompts import loading\n",
    "from langchain_core.prompts.base import BasePromptTemplate\n",
    "\n",
    "\n",
    "def load_prompt(file_path, encoding=\"utf8\") -> BasePromptTemplate:\n",
    "    \"\"\"\n",
    "    파일 경로를 기반으로 프롬프트 설정을 로드합니다.\n",
    "\n",
    "    이 함수는 주어진 파일 경로에서 YAML 형식의 프롬프트 설정을 읽어들여,\n",
    "    해당 설정에 따라 프롬프트를 로드하는 기능을 수행합니다.\n",
    "\n",
    "    Parameters:\n",
    "    file_path (str): 프롬프트 설정 파일의 경로입니다.\n",
    "\n",
    "    Returns:\n",
    "    object: 로드된 프롬프트 객체를 반환합니다.\n",
    "    \"\"\"\n",
    "    with open(file_path, \"r\", encoding=encoding) as f:\n",
    "        config = yaml.safe_load(f)\n",
    "\n",
    "    return loading.load_prompt_from_config(config)\n",
    "\n",
    "system_prompt = load_prompt(\"prompts/번역기.yaml\", encoding=\"utf-8\")\n",
    "system_prompt = system_prompt.format()"
   ]
  },
  {
   "cell_type": "code",
   "execution_count": 3,
   "metadata": {},
   "outputs": [
    {
     "data": {
      "text/plain": [
       "'당신은 영어로 대답하는 어시스턴트입니다. 질문에 영어로 답변해주세요.'"
      ]
     },
     "execution_count": 3,
     "metadata": {},
     "output_type": "execute_result"
    }
   ],
   "source": [
    "system_prompt.format()"
   ]
  },
  {
   "cell_type": "code",
   "execution_count": null,
   "metadata": {},
   "outputs": [],
   "source": []
  }
 ],
 "metadata": {
  "kernelspec": {
   "display_name": "langchain-kr-FCRwh2Uf-py3.11",
   "language": "python",
   "name": "python3"
  },
  "language_info": {
   "codemirror_mode": {
    "name": "ipython",
    "version": 3
   },
   "file_extension": ".py",
   "mimetype": "text/x-python",
   "name": "python",
   "nbconvert_exporter": "python",
   "pygments_lexer": "ipython3",
   "version": "3.11.9"
  }
 },
 "nbformat": 4,
 "nbformat_minor": 2
}
